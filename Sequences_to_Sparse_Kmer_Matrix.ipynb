{
 "cells": [
  {
   "cell_type": "markdown",
   "metadata": {},
   "source": [
    "# Transforming pd.Series of sequences to Scipy matrix of K-mers found in this sequence"
   ]
  },
  {
   "cell_type": "markdown",
   "metadata": {},
   "source": [
    "## Generating dictionary of k-mers\n",
    "\n",
    "See [how](Working_With_Sequences_K_Mers)."
   ]
  },
  {
   "cell_type": "code",
   "execution_count": 2,
   "metadata": {
    "collapsed": true
   },
   "outputs": [],
   "source": [
    "import itertools"
   ]
  },
  {
   "cell_type": "code",
   "execution_count": 3,
   "metadata": {
    "collapsed": true
   },
   "outputs": [],
   "source": [
    "def ProduceListOfAllPossibleKMers(length):\n",
    "    return [''.join(x) for x in itertools.product('ACGT', repeat=length)]\n",
    "\n",
    "def KMerListToDict(k_mer_list):\n",
    "    kmer_index = range(0, len(k_mer_list), 1)\n",
    "    return dict(zip(k_mer_list, kmer_index))\n",
    "\n",
    "def ProduceDictOfAllPossibleKMers(length):\n",
    "    kmer_list = ProduceListOfAllPossibleKMers(length)\n",
    "    kmer_dict = KMerListToDict(kmer_list)\n",
    "    return kmer_dict"
   ]
  },
  {
   "cell_type": "code",
   "execution_count": 4,
   "metadata": {
    "collapsed": true
   },
   "outputs": [],
   "source": [
    "# Producing dictionary of 6-mers, as an example:\n",
    "hexamer_dict = ProduceDictOfAllPossibleKMers(6)"
   ]
  },
  {
   "cell_type": "markdown",
   "metadata": {},
   "source": [
    "## Loading sequences"
   ]
  },
  {
   "cell_type": "code",
   "execution_count": 11,
   "metadata": {
    "collapsed": true
   },
   "outputs": [],
   "source": [
    "import pandas as pd\n",
    "import numpy as np"
   ]
  },
  {
   "cell_type": "code",
   "execution_count": 96,
   "metadata": {
    "collapsed": true
   },
   "outputs": [],
   "source": [
    "# Opening sequences previously stored in h5 format\n",
    "store = pd.HDFStore('100000_random_50nt_sequences.h5')\n",
    "df = store['data']\n",
    "store.close()"
   ]
  },
  {
   "cell_type": "code",
   "execution_count": 97,
   "metadata": {
    "collapsed": false
   },
   "outputs": [
    {
     "data": {
      "text/html": [
       "<div>\n",
       "<table border=\"1\" class=\"dataframe\">\n",
       "  <thead>\n",
       "    <tr style=\"text-align: right;\">\n",
       "      <th></th>\n",
       "      <th>Bin</th>\n",
       "      <th>canonical</th>\n",
       "    </tr>\n",
       "  </thead>\n",
       "  <tbody>\n",
       "    <tr>\n",
       "      <th>290826</th>\n",
       "      <td>14</td>\n",
       "      <td>TACTGATATACCTCTCCGTTAAGGATACGCCGTAAGCTCCATTGGT...</td>\n",
       "    </tr>\n",
       "    <tr>\n",
       "      <th>597807</th>\n",
       "      <td>10</td>\n",
       "      <td>CGAGCACGAATACTGGTTCACGAAGTAGGATTCCCATTTTAATCAG...</td>\n",
       "    </tr>\n",
       "    <tr>\n",
       "      <th>914453</th>\n",
       "      <td>11</td>\n",
       "      <td>AAATTAAGGCATACAGTAAACGACTTAAATCGAACACCGGTCTTGC...</td>\n",
       "    </tr>\n",
       "    <tr>\n",
       "      <th>377378</th>\n",
       "      <td>5</td>\n",
       "      <td>AAAGGGCAACTGTGGAAGCGGAGGGTAGACTGGTAAATAACATCGT...</td>\n",
       "    </tr>\n",
       "    <tr>\n",
       "      <th>1470839</th>\n",
       "      <td>9</td>\n",
       "      <td>CGCTAGATTTCACTGTGCTTTGGGTACGAAACCCAGCATATTCGCC...</td>\n",
       "    </tr>\n",
       "  </tbody>\n",
       "</table>\n",
       "</div>"
      ],
      "text/plain": [
       "         Bin                                          canonical\n",
       "290826    14  TACTGATATACCTCTCCGTTAAGGATACGCCGTAAGCTCCATTGGT...\n",
       "597807    10  CGAGCACGAATACTGGTTCACGAAGTAGGATTCCCATTTTAATCAG...\n",
       "914453    11  AAATTAAGGCATACAGTAAACGACTTAAATCGAACACCGGTCTTGC...\n",
       "377378     5  AAAGGGCAACTGTGGAAGCGGAGGGTAGACTGGTAAATAACATCGT...\n",
       "1470839    9  CGCTAGATTTCACTGTGCTTTGGGTACGAAACCCAGCATATTCGCC..."
      ]
     },
     "execution_count": 97,
     "metadata": {},
     "output_type": "execute_result"
    }
   ],
   "source": [
    "df.head()"
   ]
  },
  {
   "cell_type": "code",
   "execution_count": 98,
   "metadata": {
    "collapsed": false
   },
   "outputs": [],
   "source": [
    "# Current index is meaningless, I'm simply resetting it.\n",
    "df = df.reset_index()\n",
    "df = df.drop('index', axis=1)"
   ]
  },
  {
   "cell_type": "code",
   "execution_count": 99,
   "metadata": {
    "collapsed": false
   },
   "outputs": [
    {
     "data": {
      "text/html": [
       "<div>\n",
       "<table border=\"1\" class=\"dataframe\">\n",
       "  <thead>\n",
       "    <tr style=\"text-align: right;\">\n",
       "      <th></th>\n",
       "      <th>Bin</th>\n",
       "      <th>canonical</th>\n",
       "    </tr>\n",
       "  </thead>\n",
       "  <tbody>\n",
       "    <tr>\n",
       "      <th>0</th>\n",
       "      <td>14</td>\n",
       "      <td>TACTGATATACCTCTCCGTTAAGGATACGCCGTAAGCTCCATTGGT...</td>\n",
       "    </tr>\n",
       "    <tr>\n",
       "      <th>1</th>\n",
       "      <td>10</td>\n",
       "      <td>CGAGCACGAATACTGGTTCACGAAGTAGGATTCCCATTTTAATCAG...</td>\n",
       "    </tr>\n",
       "    <tr>\n",
       "      <th>2</th>\n",
       "      <td>11</td>\n",
       "      <td>AAATTAAGGCATACAGTAAACGACTTAAATCGAACACCGGTCTTGC...</td>\n",
       "    </tr>\n",
       "    <tr>\n",
       "      <th>3</th>\n",
       "      <td>5</td>\n",
       "      <td>AAAGGGCAACTGTGGAAGCGGAGGGTAGACTGGTAAATAACATCGT...</td>\n",
       "    </tr>\n",
       "    <tr>\n",
       "      <th>4</th>\n",
       "      <td>9</td>\n",
       "      <td>CGCTAGATTTCACTGTGCTTTGGGTACGAAACCCAGCATATTCGCC...</td>\n",
       "    </tr>\n",
       "  </tbody>\n",
       "</table>\n",
       "</div>"
      ],
      "text/plain": [
       "   Bin                                          canonical\n",
       "0   14  TACTGATATACCTCTCCGTTAAGGATACGCCGTAAGCTCCATTGGT...\n",
       "1   10  CGAGCACGAATACTGGTTCACGAAGTAGGATTCCCATTTTAATCAG...\n",
       "2   11  AAATTAAGGCATACAGTAAACGACTTAAATCGAACACCGGTCTTGC...\n",
       "3    5  AAAGGGCAACTGTGGAAGCGGAGGGTAGACTGGTAAATAACATCGT...\n",
       "4    9  CGCTAGATTTCACTGTGCTTTGGGTACGAAACCCAGCATATTCGCC..."
      ]
     },
     "execution_count": 99,
     "metadata": {},
     "output_type": "execute_result"
    }
   ],
   "source": [
    "df.head()"
   ]
  },
  {
   "cell_type": "code",
   "execution_count": 100,
   "metadata": {
    "collapsed": false
   },
   "outputs": [
    {
     "data": {
      "text/plain": [
       "(100000, 2)"
      ]
     },
     "execution_count": 100,
     "metadata": {},
     "output_type": "execute_result"
    }
   ],
   "source": [
    "df.shape"
   ]
  },
  {
   "cell_type": "markdown",
   "metadata": {},
   "source": [
    "There are 100 000 random 50 nt sequences in column \"canonical\". Column 'Bin' is a measured parameter in experiment. Here 'canonical' is our X, and 'Bin' is Y."
   ]
  },
  {
   "cell_type": "markdown",
   "metadata": {},
   "source": [
    "## Functions to transform single sequence to arrays of indices\n",
    "\n",
    "Each k-mer occurrence is characterized by 3 values:\n",
    "* k-mer index i - index from dictionary of k-mers, obtained above\n",
    "* position p - position of the k-mer in sequence. For example, for sequence '290826', 6-mer TGATAT is at 4-th position\n",
    "* value v - Always 1, this is a boolean sign k-mer is there."
   ]
  },
  {
   "cell_type": "code",
   "execution_count": 41,
   "metadata": {
    "collapsed": true
   },
   "outputs": [],
   "source": [
    "def SeqToKMers(seq, k, kmer_dict):\n",
    "    # Here seq - sequence made from A,C,G,T\n",
    "    # k - desired k-mer length\n",
    "    # kmer_dict - dictionary of all k-mers and their indices\n",
    "    \n",
    "    \n",
    "    # Generating list of all positions in the sequence\n",
    "    # From 0 to length of sequence\n",
    "    all_p = range(0, len(seq))\n",
    "    \n",
    "    # Initializing lists of k-mer indices i, positions p and values v\n",
    "    # They will be filled as we cycle through sequence positions\n",
    "    i = []\n",
    "    p = []\n",
    "    v = []\n",
    "    \n",
    "    # Cycling through all positions in sequence\n",
    "    for p_curr in all_p:\n",
    "        # If we hit end of the sequence, or unexpected character, we will just skip the position\n",
    "        try:\n",
    "            # Getting a k-mer\n",
    "            kmer = seq[p_curr:p_curr+k]\n",
    "            # Getting a k-mer index from dictionary\n",
    "            kmer_idx = kmer_dict[kmer]\n",
    "            # Adding info into index lists:\n",
    "            i.append(kmer_idx)\n",
    "            p.append(p_curr)\n",
    "            v.append(1)\n",
    "        except:\n",
    "            pass\n",
    "    \n",
    "    # Transforming resluting lists to numpy arrays\n",
    "    i_arr = np.array(i)\n",
    "    p_arr = np.array(p)\n",
    "    v_arr = np.array(v)\n",
    "    \n",
    "    return i_arr, p_arr, v_arr"
   ]
  },
  {
   "cell_type": "code",
   "execution_count": 58,
   "metadata": {
    "collapsed": false
   },
   "outputs": [],
   "source": [
    "# Testing the function\n",
    "i, p, v = SeqToKMers(df.iloc[0].canonical, 6, hexamer_dict)"
   ]
  },
  {
   "cell_type": "code",
   "execution_count": 59,
   "metadata": {
    "collapsed": false
   },
   "outputs": [
    {
     "data": {
      "text/plain": [
       "array([3192,  483, 1932, 3635, 2252,  817, 3269,  791, 3165,  375, 1501,\n",
       "       1909, 3542, 1883, 3439, 1468, 1776, 3010, 3850, 3112,  163,  652,\n",
       "       2609, 2246,  793, 3173,  406, 1627, 2412, 1456, 1730, 2825, 3111,\n",
       "        157,  629, 2516, 1875, 3407, 1342, 1274, 1003, 4013, 3764, 2769,\n",
       "       2884])"
      ]
     },
     "execution_count": 59,
     "metadata": {},
     "output_type": "execute_result"
    }
   ],
   "source": [
    "i"
   ]
  },
  {
   "cell_type": "code",
   "execution_count": 38,
   "metadata": {
    "collapsed": false
   },
   "outputs": [
    {
     "data": {
      "text/plain": [
       "'TACTGATATACCTCTCCGTTAAGGATACGCCGTAAGCTCCATTGGTCACA'"
      ]
     },
     "execution_count": 38,
     "metadata": {},
     "output_type": "execute_result"
    }
   ],
   "source": [
    "df.iloc[0].canonical"
   ]
  },
  {
   "cell_type": "code",
   "execution_count": 39,
   "metadata": {
    "collapsed": false
   },
   "outputs": [
    {
     "data": {
      "text/plain": [
       "(3192, 483)"
      ]
     },
     "execution_count": 39,
     "metadata": {},
     "output_type": "execute_result"
    }
   ],
   "source": [
    "hexamer_dict['TACTGA'], hexamer_dict['ACTGAT']"
   ]
  },
  {
   "cell_type": "code",
   "execution_count": 40,
   "metadata": {
    "collapsed": false
   },
   "outputs": [
    {
     "name": "stdout",
     "output_type": "stream",
     "text": [
      "10000 loops, best of 3: 180 µs per loop\n"
     ]
    }
   ],
   "source": [
    "%timeit SeqToKMers(df.iloc[0].canonical, 6, hexamer_dict)"
   ]
  },
  {
   "cell_type": "markdown",
   "metadata": {},
   "source": [
    "## Transform Series of sequences to SciPy sparse matrices"
   ]
  },
  {
   "cell_type": "code",
   "execution_count": 43,
   "metadata": {
    "collapsed": true
   },
   "outputs": [],
   "source": [
    "from scipy.sparse import csr_matrix"
   ]
  },
  {
   "cell_type": "code",
   "execution_count": 47,
   "metadata": {
    "collapsed": true
   },
   "outputs": [],
   "source": [
    "# Progress bar\n",
    "from ipywidgets import FloatProgress\n",
    "from IPython.display import display"
   ]
  },
  {
   "cell_type": "code",
   "execution_count": 85,
   "metadata": {
    "collapsed": false
   },
   "outputs": [],
   "source": [
    "def SeqSeriesToKMersIndices(ss, k, kmer_dict):\n",
    "    # ss - sequence series\n",
    "    # k - k-mer size\n",
    "    # kmer_dict - dictionary of k-mer indices\n",
    "    \n",
    "    # Initializing lists\n",
    "    i_list = [] # k-mer index\n",
    "    p_list = [] # position of k-mer in sequence\n",
    "    v_list = [] # value (1 or 0)\n",
    "    seq_idx_arr_list = [] # index of a sequence\n",
    "    \n",
    "    # Getting the list of all indices in series\n",
    "    seq_index_list = ss.index\n",
    "    \n",
    "    # Initializing progress bar\n",
    "    X = len(seq_index_list)\n",
    "    f = FloatProgress(min=0, max=X)\n",
    "    display(f)\n",
    "    \n",
    "    # Iterating through indices\n",
    "    for seq_index in seq_index_list:\n",
    "        # Getting sequnece\n",
    "        seq = ss.loc[seq_index]\n",
    "        # Getting k-mer occurrence arrays\n",
    "        i, p, v = SeqToKMers(seq, k, kmer_dict)\n",
    "        # Producing array of sequence index\n",
    "        seq_idx_arr = np.empty(i.shape)\n",
    "        seq_idx_arr.fill(seq_index)\n",
    "        # Adding single arrays to the list of arrays for each sequence\n",
    "        i_list.append(i)\n",
    "        p_list.append(p)\n",
    "        v_list.append(v)\n",
    "        seq_idx_arr_list.append(seq_idx_arr)\n",
    "        # Updating progress bar\n",
    "        f.value += 1\n",
    "    \n",
    "    # Zero line to keep correct dimension of sparse matrix:\n",
    "    # Maximum value of k-mer index:\n",
    "    max_kmer_idx = max(kmer_dict.values())\n",
    "    max_seq_index = max(seq_index_list)\n",
    "    i_list.append([max_kmer_idx])\n",
    "    p_list.append([0])\n",
    "    v_list.append([0])\n",
    "    seq_idx_arr_list.append([max_seq_index])\n",
    "    \n",
    "    #print len(i_list), len(p_list), len(v_list), len(seq_idx_arr_list)\n",
    "    \n",
    "    # Stacking all arrays lists into a single array\n",
    "    i_arr_final = np.hstack(i_list)\n",
    "    p_arr_final = np.hstack(p_list)\n",
    "    v_arr_final = np.hstack(v_list)\n",
    "    seq_idx_arr_final = np.hstack(seq_idx_arr_list)\n",
    "    \n",
    "    #print i_arr_final.shape, p_arr_final.shape, v_arr_final.shape, seq_idx_arr_final.shape\n",
    "    \n",
    "    # Transforming to sparse matrix\n",
    "    # I am not using sequence postion information here.\n",
    "    sparse = csr_matrix((v_arr_final, (seq_idx_arr_final, i_arr_final)))\n",
    "    \n",
    "    return sparse"
   ]
  },
  {
   "cell_type": "code",
   "execution_count": 101,
   "metadata": {
    "collapsed": false
   },
   "outputs": [
    {
     "data": {
      "application/vnd.jupyter.widget-view+json": {
       "model_id": "a324879300044a9989adffaa27b675c1"
      }
     },
     "metadata": {},
     "output_type": "display_data"
    }
   ],
   "source": [
    "sparse_matrix = SeqSeriesToKMersIndices(df.canonical, 6, hexamer_dict)"
   ]
  },
  {
   "cell_type": "code",
   "execution_count": 102,
   "metadata": {
    "collapsed": false
   },
   "outputs": [
    {
     "data": {
      "text/plain": [
       "(100000, 4096)"
      ]
     },
     "execution_count": 102,
     "metadata": {},
     "output_type": "execute_result"
    }
   ],
   "source": [
    "sparse_matrix.shape"
   ]
  },
  {
   "cell_type": "code",
   "execution_count": 103,
   "metadata": {
    "collapsed": false
   },
   "outputs": [
    {
     "data": {
      "text/plain": [
       "(100000, 2)"
      ]
     },
     "execution_count": 103,
     "metadata": {},
     "output_type": "execute_result"
    }
   ],
   "source": [
    "df.shape"
   ]
  },
  {
   "cell_type": "code",
   "execution_count": 105,
   "metadata": {
    "collapsed": false
   },
   "outputs": [
    {
     "data": {
      "text/plain": [
       "0"
      ]
     },
     "execution_count": 105,
     "metadata": {},
     "output_type": "execute_result"
    }
   ],
   "source": [
    "sparse_matrix.min()"
   ]
  },
  {
   "cell_type": "code",
   "execution_count": 106,
   "metadata": {
    "collapsed": false
   },
   "outputs": [
    {
     "data": {
      "text/plain": [
       "7"
      ]
     },
     "execution_count": 106,
     "metadata": {},
     "output_type": "execute_result"
    }
   ],
   "source": [
    "sparse_matrix.max()"
   ]
  },
  {
   "cell_type": "code",
   "execution_count": null,
   "metadata": {
    "collapsed": true
   },
   "outputs": [],
   "source": []
  }
 ],
 "metadata": {
  "kernelspec": {
   "display_name": "Python 2",
   "language": "python",
   "name": "python2"
  },
  "language_info": {
   "codemirror_mode": {
    "name": "ipython",
    "version": 2
   },
   "file_extension": ".py",
   "mimetype": "text/x-python",
   "name": "python",
   "nbconvert_exporter": "python",
   "pygments_lexer": "ipython2",
   "version": "2.7.6"
  }
 },
 "nbformat": 4,
 "nbformat_minor": 2
}
