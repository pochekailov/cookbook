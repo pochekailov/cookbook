{
 "cells": [
  {
   "cell_type": "markdown",
   "metadata": {},
   "source": [
    "# Transform sequence to numpy array\n",
    "\n",
    "Sequence comes as ACTG, must be transformed to array of [n, 4], where n is the length of sequence, and 4 is the number of possible nucleotides"
   ]
  },
  {
   "cell_type": "code",
   "execution_count": 1,
   "metadata": {
    "collapsed": true
   },
   "outputs": [],
   "source": [
    "import pandas as pd\n",
    "import numpy as np\n",
    "\n",
    "# Progress bar\n",
    "from ipywidgets import FloatProgress\n",
    "from IPython.display import display"
   ]
  },
  {
   "cell_type": "code",
   "execution_count": 2,
   "metadata": {
    "collapsed": true
   },
   "outputs": [],
   "source": [
    "def OneLetterToMatrix(matrix, letter):\n",
    "    \n",
    "    if letter == 'A' or letter == 'C' or letter == 'G' or letter =='T':\n",
    "        mapper = {'A':0, 'C':1, 'G':2, 'T':3}\n",
    "        index = mapper[letter]\n",
    "        matrix[index] = 1\n",
    "    else:\n",
    "        matrix[:] = 0.25 # Unknown base\n",
    "    return matrix\n",
    "\n",
    "\n",
    "def DNASeqToMatrix(sequence):\n",
    "    seq_length = len(sequence)\n",
    "    matrix = np.zeros((seq_length, 4))\n",
    "    \n",
    "    i = 0\n",
    "    while i < seq_length:\n",
    "        letter = sequence[i]\n",
    "        matrix_row = matrix[i, :]\n",
    "        matrix[i, :] = OneLetterToMatrix(matrix_row, letter)\n",
    "        i += 1\n",
    "    \n",
    "    return matrix\n",
    "\n",
    "\n",
    "def SeriesSeqToMatrix(series):\n",
    "    \"\"\"\n",
    "    Gets series of sequences, all must be of the same length Y. X is a number of elements in series.\n",
    "    Creates numpy array (X, Y, 4), each column of 4 indicates the nucleotide.\n",
    "    Columns are as following:\n",
    "    A - 0\n",
    "    C - 1\n",
    "    G - 2\n",
    "    T - 3\n",
    "    \"\"\"\n",
    "    \n",
    "    X = series.count()\n",
    "    \n",
    "    f = FloatProgress(min=0, max=X)\n",
    "    display(f)\n",
    "    \n",
    "    length = series.str.len().max()\n",
    "    \n",
    "    arr = np.zeros((X, length, 4))\n",
    "    \n",
    "    i = 0\n",
    "    while i < X:\n",
    "        seq = series.iloc[i]\n",
    "        seq_len = len(seq)\n",
    "        arr[i, :seq_len, :] = DNASeqToMatrix(seq)\n",
    "        i += 1\n",
    "        f.value += 1\n",
    "        \n",
    "    return arr"
   ]
  },
  {
   "cell_type": "code",
   "execution_count": 3,
   "metadata": {
    "collapsed": true
   },
   "outputs": [],
   "source": [
    "store = pd.HDFStore('100000_random_50nt_sequences.h5')\n",
    "df = store['data']\n",
    "store.close()"
   ]
  },
  {
   "cell_type": "code",
   "execution_count": 4,
   "metadata": {
    "collapsed": true
   },
   "outputs": [],
   "source": [
    "df = df.reset_index()\n",
    "df = df.drop('index', axis=1)"
   ]
  },
  {
   "cell_type": "code",
   "execution_count": 5,
   "metadata": {
    "collapsed": false
   },
   "outputs": [
    {
     "data": {
      "text/html": [
       "<div>\n",
       "<table border=\"1\" class=\"dataframe\">\n",
       "  <thead>\n",
       "    <tr style=\"text-align: right;\">\n",
       "      <th></th>\n",
       "      <th>Bin</th>\n",
       "      <th>canonical</th>\n",
       "    </tr>\n",
       "  </thead>\n",
       "  <tbody>\n",
       "    <tr>\n",
       "      <th>0</th>\n",
       "      <td>4</td>\n",
       "      <td>CATTCCGGAGAACAGACAGTCAACACGTTTACGGCCCTACGAATGG...</td>\n",
       "    </tr>\n",
       "    <tr>\n",
       "      <th>1</th>\n",
       "      <td>3</td>\n",
       "      <td>CTAGTCATCTTCTGGATTACTACGAATAAGGCAGGAACAGATACGG...</td>\n",
       "    </tr>\n",
       "    <tr>\n",
       "      <th>2</th>\n",
       "      <td>15</td>\n",
       "      <td>CTACAGTGTTCGCGAGCGCGTATAGAGATCGCTCAAACAAAGACCA...</td>\n",
       "    </tr>\n",
       "    <tr>\n",
       "      <th>3</th>\n",
       "      <td>9</td>\n",
       "      <td>ATCGAACCACATTTTCGAGCAAGTTAGTCGAATCGCCAAGTCAAAA...</td>\n",
       "    </tr>\n",
       "    <tr>\n",
       "      <th>4</th>\n",
       "      <td>13</td>\n",
       "      <td>GTACGGACTAATGTACTGGAGTAGATATAAGGATCCCGGGGCAAAA...</td>\n",
       "    </tr>\n",
       "  </tbody>\n",
       "</table>\n",
       "</div>"
      ],
      "text/plain": [
       "   Bin                                          canonical\n",
       "0    4  CATTCCGGAGAACAGACAGTCAACACGTTTACGGCCCTACGAATGG...\n",
       "1    3  CTAGTCATCTTCTGGATTACTACGAATAAGGCAGGAACAGATACGG...\n",
       "2   15  CTACAGTGTTCGCGAGCGCGTATAGAGATCGCTCAAACAAAGACCA...\n",
       "3    9  ATCGAACCACATTTTCGAGCAAGTTAGTCGAATCGCCAAGTCAAAA...\n",
       "4   13  GTACGGACTAATGTACTGGAGTAGATATAAGGATCCCGGGGCAAAA..."
      ]
     },
     "execution_count": 5,
     "metadata": {},
     "output_type": "execute_result"
    }
   ],
   "source": [
    "df.head()"
   ]
  },
  {
   "cell_type": "code",
   "execution_count": 6,
   "metadata": {
    "collapsed": true
   },
   "outputs": [],
   "source": [
    "arr = SeriesSeqToMatrix(df.canonical)"
   ]
  },
  {
   "cell_type": "code",
   "execution_count": 7,
   "metadata": {
    "collapsed": false
   },
   "outputs": [
    {
     "data": {
      "text/plain": [
       "array([[[ 0.,  1.,  0.,  0.],\n",
       "        [ 1.,  0.,  0.,  0.],\n",
       "        [ 0.,  0.,  0.,  1.],\n",
       "        ..., \n",
       "        [ 0.,  0.,  0.,  1.],\n",
       "        [ 0.,  0.,  1.,  0.],\n",
       "        [ 0.,  0.,  1.,  0.]],\n",
       "\n",
       "       [[ 0.,  1.,  0.,  0.],\n",
       "        [ 0.,  0.,  0.,  1.],\n",
       "        [ 1.,  0.,  0.,  0.],\n",
       "        ..., \n",
       "        [ 0.,  1.,  0.,  0.],\n",
       "        [ 1.,  0.,  0.,  0.],\n",
       "        [ 0.,  0.,  1.,  0.]],\n",
       "\n",
       "       [[ 0.,  1.,  0.,  0.],\n",
       "        [ 0.,  0.,  0.,  1.],\n",
       "        [ 1.,  0.,  0.,  0.],\n",
       "        ..., \n",
       "        [ 1.,  0.,  0.,  0.],\n",
       "        [ 1.,  0.,  0.,  0.],\n",
       "        [ 1.,  0.,  0.,  0.]],\n",
       "\n",
       "       ..., \n",
       "       [[ 1.,  0.,  0.,  0.],\n",
       "        [ 0.,  0.,  0.,  1.],\n",
       "        [ 0.,  0.,  0.,  1.],\n",
       "        ..., \n",
       "        [ 0.,  0.,  1.,  0.],\n",
       "        [ 0.,  1.,  0.,  0.],\n",
       "        [ 0.,  1.,  0.,  0.]],\n",
       "\n",
       "       [[ 0.,  0.,  0.,  1.],\n",
       "        [ 0.,  1.,  0.,  0.],\n",
       "        [ 0.,  1.,  0.,  0.],\n",
       "        ..., \n",
       "        [ 0.,  1.,  0.,  0.],\n",
       "        [ 0.,  0.,  1.,  0.],\n",
       "        [ 0.,  1.,  0.,  0.]],\n",
       "\n",
       "       [[ 0.,  0.,  1.,  0.],\n",
       "        [ 1.,  0.,  0.,  0.],\n",
       "        [ 1.,  0.,  0.,  0.],\n",
       "        ..., \n",
       "        [ 0.,  1.,  0.,  0.],\n",
       "        [ 0.,  0.,  1.,  0.],\n",
       "        [ 1.,  0.,  0.,  0.]]])"
      ]
     },
     "execution_count": 7,
     "metadata": {},
     "output_type": "execute_result"
    }
   ],
   "source": [
    "arr"
   ]
  },
  {
   "cell_type": "code",
   "execution_count": null,
   "metadata": {
    "collapsed": true
   },
   "outputs": [],
   "source": []
  }
 ],
 "metadata": {
  "kernelspec": {
   "display_name": "Python 2",
   "language": "python",
   "name": "python2"
  },
  "language_info": {
   "codemirror_mode": {
    "name": "ipython",
    "version": 2
   },
   "file_extension": ".py",
   "mimetype": "text/x-python",
   "name": "python",
   "nbconvert_exporter": "python",
   "pygments_lexer": "ipython2",
   "version": "2.7.12"
  }
 },
 "nbformat": 4,
 "nbformat_minor": 0
}
