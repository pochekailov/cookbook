{
 "cells": [
  {
   "cell_type": "markdown",
   "metadata": {
    "deletable": true,
    "editable": true
   },
   "source": [
    "# Secondary structure calculations\n",
    "\n",
    "Two possibilities:\n",
    "* Nupack\n",
    "* RNAfold"
   ]
  },
  {
   "cell_type": "code",
   "execution_count": 10,
   "metadata": {
    "collapsed": true,
    "deletable": true,
    "editable": true
   },
   "outputs": [],
   "source": [
    "import pandas as pd"
   ]
  },
  {
   "cell_type": "markdown",
   "metadata": {
    "deletable": true,
    "editable": true
   },
   "source": [
    "# Loading sequences"
   ]
  },
  {
   "cell_type": "code",
   "execution_count": 11,
   "metadata": {
    "collapsed": true,
    "deletable": true,
    "editable": true
   },
   "outputs": [],
   "source": [
    "store = pd.HDFStore('100000_random_50nt_sequences.h5')"
   ]
  },
  {
   "cell_type": "code",
   "execution_count": 12,
   "metadata": {
    "collapsed": false,
    "deletable": true,
    "editable": true
   },
   "outputs": [
    {
     "data": {
      "text/plain": [
       "<class 'pandas.io.pytables.HDFStore'>\n",
       "File path: 100000_random_50nt_sequences.h5\n",
       "/data            frame        (shape->[100000,2])"
      ]
     },
     "execution_count": 12,
     "metadata": {},
     "output_type": "execute_result"
    }
   ],
   "source": [
    "store"
   ]
  },
  {
   "cell_type": "code",
   "execution_count": 13,
   "metadata": {
    "collapsed": true,
    "deletable": true,
    "editable": true
   },
   "outputs": [],
   "source": [
    "df = store['data']"
   ]
  },
  {
   "cell_type": "code",
   "execution_count": 14,
   "metadata": {
    "collapsed": true,
    "deletable": true,
    "editable": true
   },
   "outputs": [],
   "source": [
    "store.close()"
   ]
  },
  {
   "cell_type": "code",
   "execution_count": 15,
   "metadata": {
    "collapsed": false,
    "deletable": true,
    "editable": true
   },
   "outputs": [
    {
     "data": {
      "text/html": [
       "<div>\n",
       "<table border=\"1\" class=\"dataframe\">\n",
       "  <thead>\n",
       "    <tr style=\"text-align: right;\">\n",
       "      <th></th>\n",
       "      <th>Bin</th>\n",
       "      <th>canonical</th>\n",
       "    </tr>\n",
       "  </thead>\n",
       "  <tbody>\n",
       "    <tr>\n",
       "      <th>290826</th>\n",
       "      <td>14</td>\n",
       "      <td>TACTGATATACCTCTCCGTTAAGGATACGCCGTAAGCTCCATTGGT...</td>\n",
       "    </tr>\n",
       "    <tr>\n",
       "      <th>597807</th>\n",
       "      <td>10</td>\n",
       "      <td>CGAGCACGAATACTGGTTCACGAAGTAGGATTCCCATTTTAATCAG...</td>\n",
       "    </tr>\n",
       "    <tr>\n",
       "      <th>914453</th>\n",
       "      <td>11</td>\n",
       "      <td>AAATTAAGGCATACAGTAAACGACTTAAATCGAACACCGGTCTTGC...</td>\n",
       "    </tr>\n",
       "    <tr>\n",
       "      <th>377378</th>\n",
       "      <td>5</td>\n",
       "      <td>AAAGGGCAACTGTGGAAGCGGAGGGTAGACTGGTAAATAACATCGT...</td>\n",
       "    </tr>\n",
       "    <tr>\n",
       "      <th>1470839</th>\n",
       "      <td>9</td>\n",
       "      <td>CGCTAGATTTCACTGTGCTTTGGGTACGAAACCCAGCATATTCGCC...</td>\n",
       "    </tr>\n",
       "  </tbody>\n",
       "</table>\n",
       "</div>"
      ],
      "text/plain": [
       "         Bin                                          canonical\n",
       "290826    14  TACTGATATACCTCTCCGTTAAGGATACGCCGTAAGCTCCATTGGT...\n",
       "597807    10  CGAGCACGAATACTGGTTCACGAAGTAGGATTCCCATTTTAATCAG...\n",
       "914453    11  AAATTAAGGCATACAGTAAACGACTTAAATCGAACACCGGTCTTGC...\n",
       "377378     5  AAAGGGCAACTGTGGAAGCGGAGGGTAGACTGGTAAATAACATCGT...\n",
       "1470839    9  CGCTAGATTTCACTGTGCTTTGGGTACGAAACCCAGCATATTCGCC..."
      ]
     },
     "execution_count": 15,
     "metadata": {},
     "output_type": "execute_result"
    }
   ],
   "source": [
    "df.head()"
   ]
  },
  {
   "cell_type": "code",
   "execution_count": 16,
   "metadata": {
    "collapsed": true,
    "deletable": true,
    "editable": true
   },
   "outputs": [],
   "source": [
    "df = df.reset_index()\n",
    "df = df.drop('index', axis=1)"
   ]
  },
  {
   "cell_type": "code",
   "execution_count": 17,
   "metadata": {
    "collapsed": false,
    "deletable": true,
    "editable": true
   },
   "outputs": [
    {
     "data": {
      "text/html": [
       "<div>\n",
       "<table border=\"1\" class=\"dataframe\">\n",
       "  <thead>\n",
       "    <tr style=\"text-align: right;\">\n",
       "      <th></th>\n",
       "      <th>Bin</th>\n",
       "      <th>canonical</th>\n",
       "    </tr>\n",
       "  </thead>\n",
       "  <tbody>\n",
       "    <tr>\n",
       "      <th>0</th>\n",
       "      <td>14</td>\n",
       "      <td>TACTGATATACCTCTCCGTTAAGGATACGCCGTAAGCTCCATTGGT...</td>\n",
       "    </tr>\n",
       "    <tr>\n",
       "      <th>1</th>\n",
       "      <td>10</td>\n",
       "      <td>CGAGCACGAATACTGGTTCACGAAGTAGGATTCCCATTTTAATCAG...</td>\n",
       "    </tr>\n",
       "    <tr>\n",
       "      <th>2</th>\n",
       "      <td>11</td>\n",
       "      <td>AAATTAAGGCATACAGTAAACGACTTAAATCGAACACCGGTCTTGC...</td>\n",
       "    </tr>\n",
       "    <tr>\n",
       "      <th>3</th>\n",
       "      <td>5</td>\n",
       "      <td>AAAGGGCAACTGTGGAAGCGGAGGGTAGACTGGTAAATAACATCGT...</td>\n",
       "    </tr>\n",
       "    <tr>\n",
       "      <th>4</th>\n",
       "      <td>9</td>\n",
       "      <td>CGCTAGATTTCACTGTGCTTTGGGTACGAAACCCAGCATATTCGCC...</td>\n",
       "    </tr>\n",
       "  </tbody>\n",
       "</table>\n",
       "</div>"
      ],
      "text/plain": [
       "   Bin                                          canonical\n",
       "0   14  TACTGATATACCTCTCCGTTAAGGATACGCCGTAAGCTCCATTGGT...\n",
       "1   10  CGAGCACGAATACTGGTTCACGAAGTAGGATTCCCATTTTAATCAG...\n",
       "2   11  AAATTAAGGCATACAGTAAACGACTTAAATCGAACACCGGTCTTGC...\n",
       "3    5  AAAGGGCAACTGTGGAAGCGGAGGGTAGACTGGTAAATAACATCGT...\n",
       "4    9  CGCTAGATTTCACTGTGCTTTGGGTACGAAACCCAGCATATTCGCC..."
      ]
     },
     "execution_count": 17,
     "metadata": {},
     "output_type": "execute_result"
    }
   ],
   "source": [
    "df.head()"
   ]
  },
  {
   "cell_type": "code",
   "execution_count": 18,
   "metadata": {
    "collapsed": false,
    "deletable": true,
    "editable": true
   },
   "outputs": [],
   "source": [
    "# Taking only one sequence\n",
    "seq = df.canonical.loc[0]"
   ]
  },
  {
   "cell_type": "code",
   "execution_count": 19,
   "metadata": {
    "collapsed": false,
    "deletable": true,
    "editable": true
   },
   "outputs": [
    {
     "data": {
      "text/plain": [
       "'TACTGATATACCTCTCCGTTAAGGATACGCCGTAAGCTCCATTGGTCACA'"
      ]
     },
     "execution_count": 19,
     "metadata": {},
     "output_type": "execute_result"
    }
   ],
   "source": [
    "seq"
   ]
  },
  {
   "cell_type": "markdown",
   "metadata": {
    "deletable": true,
    "editable": true
   },
   "source": [
    "# Predicting secondary structure with Nupack\n",
    "\n",
    "This is covered in \"Complex Analysis\" part of their manual. The manual is in \"doc\" folder supplied with source code."
   ]
  },
  {
   "cell_type": "markdown",
   "metadata": {
    "deletable": true,
    "editable": true
   },
   "source": [
    "## Testing NuPack installation\n",
    "\n",
    "Installation on Ubuntu is straightforward according to their manual. I'm not covering it here"
   ]
  },
  {
   "cell_type": "code",
   "execution_count": 20,
   "metadata": {
    "collapsed": false,
    "deletable": true,
    "editable": true
   },
   "outputs": [
    {
     "name": "stdout",
     "output_type": "stream",
     "text": [
      "No input file specified.\n",
      "Requesting input manually.\n",
      "% NUPACK 3.1.0\n",
      "% Program: pfunc\n",
      "% Start time: Tue Apr 25 23:16:24 2017\n",
      "% Command: pfunc -v \n",
      "Enter sequence: ^C\n"
     ]
    }
   ],
   "source": [
    "# Partition function\n",
    "!pfunc -v"
   ]
  },
  {
   "cell_type": "code",
   "execution_count": 21,
   "metadata": {
    "collapsed": false,
    "deletable": true,
    "editable": true
   },
   "outputs": [
    {
     "name": "stdout",
     "output_type": "stream",
     "text": [
      "No input file specified.\n",
      "Requesting input manually.\n",
      "Enter output file prefix: ^C\n"
     ]
    }
   ],
   "source": [
    "# Base Pairing\n",
    "!pairs"
   ]
  },
  {
   "cell_type": "code",
   "execution_count": 22,
   "metadata": {
    "collapsed": false,
    "deletable": true,
    "editable": true
   },
   "outputs": [
    {
     "name": "stdout",
     "output_type": "stream",
     "text": [
      "No input file specified.\n",
      "Requesting input manually.\n",
      "Enter output file prefix: ^C\n"
     ]
    }
   ],
   "source": [
    "# Minimum free energy (MFE) secondary structure\n",
    "!mfe"
   ]
  },
  {
   "cell_type": "code",
   "execution_count": 23,
   "metadata": {
    "collapsed": false,
    "deletable": true,
    "editable": true
   },
   "outputs": [
    {
     "name": "stdout",
     "output_type": "stream",
     "text": [
      "No input file specified.\n",
      "Requesting input manually.\n",
      "Enter output file prefix: ^C\n"
     ]
    }
   ],
   "source": [
    "# All secondary structures within specified minimum free energy gap\n",
    "!subopt"
   ]
  },
  {
   "cell_type": "markdown",
   "metadata": {
    "deletable": true,
    "editable": true
   },
   "source": [
    "## In order to run nupack, one needs sequence saved in a file\n",
    "\n",
    "I'm creating a short function to save sequence to file"
   ]
  },
  {
   "cell_type": "code",
   "execution_count": 24,
   "metadata": {
    "collapsed": true,
    "deletable": true,
    "editable": true
   },
   "outputs": [],
   "source": [
    "def SeqToFile(seq):\n",
    "    # Saving a single sequence to the temporary file, which is accepted by Nupack\n",
    "    seq_file_handler = open('seq.in', 'w')\n",
    "    seq_file_handler.write(seq)\n",
    "    seq_file_handler.close()"
   ]
  },
  {
   "cell_type": "code",
   "execution_count": 25,
   "metadata": {
    "collapsed": true,
    "deletable": true,
    "editable": true
   },
   "outputs": [],
   "source": [
    "# Saving sample sequence to input file\n",
    "SeqToFile(seq)"
   ]
  },
  {
   "cell_type": "code",
   "execution_count": 26,
   "metadata": {
    "collapsed": false,
    "deletable": true,
    "editable": true
   },
   "outputs": [
    {
     "name": "stdout",
     "output_type": "stream",
     "text": [
      "100000_random_50nt_sequences.h5  seq.ppairs\r\n",
      "Pandas_Indexing_Simple.ipynb\t Sequences_to_Sparse_Kmer_Matrix.ipynb\r\n",
      "Secondary_Structure.ipynb\t Working_With_Sequences_K_Mers.ipynb\r\n",
      "seq.in\r\n"
     ]
    }
   ],
   "source": [
    "# File is in local directory\n",
    "!ls"
   ]
  },
  {
   "cell_type": "markdown",
   "metadata": {
    "deletable": true,
    "editable": true
   },
   "source": [
    "## Calculating probability of each base to pair with other base"
   ]
  },
  {
   "cell_type": "code",
   "execution_count": 27,
   "metadata": {
    "collapsed": false,
    "deletable": true,
    "editable": true
   },
   "outputs": [],
   "source": [
    "# -T 37 is how one specifies temperature\n",
    "!pairs -T 37 seq"
   ]
  },
  {
   "cell_type": "code",
   "execution_count": 28,
   "metadata": {
    "collapsed": false,
    "deletable": true,
    "editable": true
   },
   "outputs": [
    {
     "name": "stdout",
     "output_type": "stream",
     "text": [
      "100000_random_50nt_sequences.h5  seq.ppairs\r\n",
      "Pandas_Indexing_Simple.ipynb\t Sequences_to_Sparse_Kmer_Matrix.ipynb\r\n",
      "Secondary_Structure.ipynb\t Working_With_Sequences_K_Mers.ipynb\r\n",
      "seq.in\r\n"
     ]
    }
   ],
   "source": [
    "# The result appears in file seq.ppairs\n",
    "!ls"
   ]
  },
  {
   "cell_type": "code",
   "execution_count": 29,
   "metadata": {
    "collapsed": true
   },
   "outputs": [],
   "source": [
    "!pairs -T 37 seq"
   ]
  },
  {
   "cell_type": "markdown",
   "metadata": {
    "deletable": true,
    "editable": true
   },
   "source": [
    "## Reading results"
   ]
  },
  {
   "cell_type": "code",
   "execution_count": 30,
   "metadata": {
    "collapsed": true,
    "deletable": true,
    "editable": true
   },
   "outputs": [],
   "source": [
    "# Line by line into the list\n",
    "with open('seq.ppairs', 'r') as res_file_handler:\n",
    "        content =  res_file_handler.readlines()"
   ]
  },
  {
   "cell_type": "code",
   "execution_count": 31,
   "metadata": {
    "collapsed": false,
    "deletable": true,
    "editable": true
   },
   "outputs": [
    {
     "data": {
      "text/plain": [
       "['% NUPACK 3.1.0\\n',\n",
       " '% Program: pairs\\n',\n",
       " '% Start time: Tue Apr 25 23:16:58 2017\\n',\n",
       " '% Command: pairs -T 37 seq \\n',\n",
       " '% Minimum printed pair probability: 0.001\\n',\n",
       " '% Sequence:  TACTGATATACCTCTCCGTTAAGGATACGCCGTAAGCTCCATTGGTCACA\\n',\n",
       " '% v(pi): 1\\n',\n",
       " '% Parameters: RNA, 1995\\n',\n",
       " '% Dangles setting: 1\\n',\n",
       " '% Temperature (C): 37.0\\n',\n",
       " '% Sodium concentration: 1.0000 M\\n',\n",
       " '% Magnesium concentration: 0.0000 M\\n',\n",
       " '% Free energy: -6.69513088e+00 kcal/mol\\n',\n",
       " '\\n',\n",
       " '50\\n',\n",
       " '1\\t6\\t1.1797e-02\\n',\n",
       " '1\\t8\\t1.4809e-02\\n',\n",
       " '1\\t10\\t1.3374e-02\\n',\n",
       " '1\\t21\\t2.5288e-03\\n',\n",
       " '1\\t34\\t9.5238e-03\\n',\n",
       " '2\\t7\\t1.4372e-02\\n',\n",
       " '2\\t9\\t1.5879e-02\\n',\n",
       " '2\\t19\\t2.3056e-02\\n',\n",
       " '2\\t20\\t2.6685e-03\\n',\n",
       " '2\\t33\\t1.1627e-02\\n',\n",
       " '2\\t46\\t2.4771e-02\\n',\n",
       " '3\\t18\\t2.6392e-02\\n',\n",
       " '3\\t23\\t2.1177e-03\\n',\n",
       " '3\\t24\\t2.2267e-03\\n',\n",
       " '3\\t32\\t1.1675e-02\\n',\n",
       " '3\\t36\\t1.9829e-03\\n',\n",
       " '3\\t45\\t2.7716e-02\\n',\n",
       " '4\\t8\\t2.7102e-03\\n',\n",
       " '4\\t10\\t1.2572e-02\\n',\n",
       " '4\\t18\\t1.6616e-03\\n',\n",
       " '4\\t21\\t1.7369e-02\\n',\n",
       " '4\\t22\\t2.0589e-03\\n',\n",
       " '4\\t23\\t2.1729e-03\\n',\n",
       " '4\\t35\\t2.0554e-03\\n',\n",
       " '4\\t44\\t2.7413e-02\\n',\n",
       " '4\\t48\\t2.3732e-02\\n',\n",
       " '4\\t50\\t1.1802e-03\\n',\n",
       " '5\\t9\\t7.3039e-03\\n',\n",
       " '5\\t11\\t9.7632e-03\\n',\n",
       " '5\\t12\\t1.4380e-02\\n',\n",
       " '5\\t14\\t7.8064e-02\\n',\n",
       " '5\\t16\\t3.0357e-02\\n',\n",
       " '5\\t17\\t2.1820e-03\\n',\n",
       " '5\\t20\\t1.7454e-02\\n',\n",
       " '5\\t28\\t2.0312e-03\\n',\n",
       " '5\\t30\\t8.3591e-03\\n',\n",
       " '5\\t39\\t1.5772e-03\\n',\n",
       " '5\\t43\\t2.6362e-02\\n',\n",
       " '5\\t47\\t3.1314e-02\\n',\n",
       " '5\\t49\\t2.0141e-03\\n',\n",
       " '6\\t13\\t7.7702e-02\\n',\n",
       " '6\\t15\\t2.9898e-02\\n',\n",
       " '6\\t19\\t1.7915e-02\\n',\n",
       " '6\\t38\\t1.6187e-03\\n',\n",
       " '6\\t42\\t2.6288e-02\\n',\n",
       " '6\\t46\\t2.9813e-02\\n',\n",
       " '7\\t18\\t1.7124e-02\\n',\n",
       " '7\\t21\\t1.4834e-03\\n',\n",
       " '7\\t27\\t1.6815e-02\\n',\n",
       " '7\\t29\\t1.1722e-03\\n',\n",
       " '7\\t34\\t3.4254e-03\\n',\n",
       " '7\\t36\\t2.4191e-03\\n',\n",
       " '7\\t41\\t2.2169e-02\\n',\n",
       " '7\\t45\\t2.1466e-02\\n',\n",
       " '8\\t13\\t9.2339e-03\\n',\n",
       " '8\\t19\\t1.7898e-03\\n',\n",
       " '8\\t20\\t1.4854e-03\\n',\n",
       " '8\\t26\\t2.0238e-02\\n',\n",
       " '8\\t33\\t3.9976e-03\\n',\n",
       " '9\\t18\\t1.7856e-03\\n',\n",
       " '9\\t21\\t3.7940e-03\\n',\n",
       " '9\\t25\\t1.9724e-02\\n',\n",
       " '9\\t27\\t8.5433e-03\\n',\n",
       " '9\\t32\\t3.8766e-03\\n',\n",
       " '9\\t34\\t2.4074e-02\\n',\n",
       " '10\\t19\\t7.1165e-03\\n',\n",
       " '10\\t20\\t3.9468e-03\\n',\n",
       " '10\\t26\\t9.6942e-03\\n',\n",
       " '10\\t33\\t2.6507e-02\\n',\n",
       " '10\\t38\\t1.1690e-03\\n',\n",
       " '10\\t42\\t2.9140e-03\\n',\n",
       " '10\\t46\\t3.4835e-02\\n',\n",
       " '11\\t18\\t7.7954e-03\\n',\n",
       " '11\\t24\\t5.2696e-02\\n',\n",
       " '11\\t29\\t1.5517e-02\\n',\n",
       " '11\\t32\\t2.6388e-02\\n',\n",
       " '11\\t45\\t4.0506e-02\\n',\n",
       " '12\\t18\\t4.3205e-03\\n',\n",
       " '12\\t23\\t5.3103e-02\\n',\n",
       " '12\\t29\\t3.8972e-03\\n',\n",
       " '12\\t36\\t2.3044e-03\\n',\n",
       " '12\\t44\\t4.0639e-02\\n',\n",
       " '13\\t22\\t4.6481e-02\\n',\n",
       " '13\\t25\\t6.0328e-03\\n',\n",
       " '13\\t27\\t1.0742e-01\\n',\n",
       " '13\\t29\\t1.1976e-03\\n',\n",
       " '13\\t35\\t1.8516e-03\\n',\n",
       " '13\\t48\\t3.6732e-03\\n',\n",
       " '14\\t24\\t6.2657e-03\\n',\n",
       " '14\\t29\\t2.9101e-03\\n',\n",
       " '15\\t21\\t1.3252e-03\\n',\n",
       " '15\\t23\\t5.7017e-03\\n',\n",
       " '15\\t25\\t6.2387e-01\\n',\n",
       " '15\\t41\\t1.5248e-03\\n',\n",
       " '16\\t24\\t6.6112e-01\\n',\n",
       " '16\\t45\\t7.0003e-02\\n',\n",
       " '17\\t23\\t6.6154e-01\\n',\n",
       " '17\\t29\\t1.7373e-03\\n',\n",
       " '17\\t36\\t2.7440e-03\\n',\n",
       " '17\\t44\\t7.2742e-02\\n',\n",
       " '18\\t28\\t2.1786e-03\\n',\n",
       " '18\\t37\\t3.3969e-02\\n',\n",
       " '18\\t43\\t6.9279e-02\\n',\n",
       " '18\\t47\\t3.2596e-03\\n',\n",
       " '18\\t49\\t2.4664e-03\\n',\n",
       " '19\\t27\\t2.0474e-03\\n',\n",
       " '19\\t34\\t2.9758e-03\\n',\n",
       " '19\\t35\\t2.4227e-02\\n',\n",
       " '19\\t36\\t3.0976e-02\\n',\n",
       " '19\\t45\\t1.4523e-03\\n',\n",
       " '19\\t48\\t2.3001e-03\\n',\n",
       " '20\\t34\\t3.0523e-02\\n',\n",
       " '20\\t35\\t2.9079e-02\\n',\n",
       " '20\\t41\\t5.2359e-03\\n',\n",
       " '20\\t44\\t4.2111e-03\\n',\n",
       " '21\\t33\\t3.2088e-02\\n',\n",
       " '21\\t42\\t7.0426e-03\\n',\n",
       " '21\\t43\\t5.5102e-03\\n',\n",
       " '22\\t33\\t4.1965e-03\\n',\n",
       " '22\\t42\\t5.8402e-03\\n',\n",
       " '23\\t31\\t9.4105e-02\\n',\n",
       " '23\\t40\\t1.6145e-01\\n',\n",
       " '24\\t30\\t9.4117e-02\\n',\n",
       " '24\\t37\\t1.0137e-03\\n',\n",
       " '24\\t39\\t1.6184e-01\\n',\n",
       " '24\\t47\\t2.1617e-03\\n',\n",
       " '25\\t38\\t1.5624e-01\\n',\n",
       " '25\\t46\\t2.1037e-03\\n',\n",
       " '26\\t34\\t4.0183e-02\\n',\n",
       " '26\\t45\\t1.9568e-03\\n',\n",
       " '26\\t48\\t1.3060e-03\\n',\n",
       " '27\\t33\\t4.6612e-02\\n',\n",
       " '27\\t38\\t1.1232e-03\\n',\n",
       " '28\\t32\\t4.4210e-02\\n',\n",
       " '28\\t36\\t3.2946e-03\\n',\n",
       " '28\\t44\\t1.5032e-03\\n',\n",
       " '29\\t37\\t4.1643e-01\\n',\n",
       " '29\\t40\\t2.7451e-03\\n',\n",
       " '29\\t46\\t2.1922e-03\\n',\n",
       " '29\\t47\\t1.2685e-01\\n',\n",
       " '29\\t49\\t1.6738e-03\\n',\n",
       " '30\\t36\\t3.7170e-01\\n',\n",
       " '30\\t45\\t1.7443e-01\\n',\n",
       " '31\\t36\\t7.9567e-02\\n',\n",
       " '31\\t44\\t1.7578e-01\\n',\n",
       " '32\\t40\\t1.0170e-03\\n',\n",
       " '32\\t42\\t2.0336e-03\\n',\n",
       " '32\\t43\\t1.1187e-01\\n',\n",
       " '32\\t47\\t3.4132e-03\\n',\n",
       " '32\\t49\\t1.0143e-01\\n',\n",
       " '33\\t41\\t3.3419e-03\\n',\n",
       " '33\\t44\\t1.4485e-03\\n',\n",
       " '33\\t48\\t1.0018e-01\\n',\n",
       " '34\\t42\\t4.5588e-03\\n',\n",
       " '34\\t43\\t7.0987e-03\\n',\n",
       " '35\\t42\\t1.2799e-02\\n',\n",
       " '35\\t43\\t2.0614e-03\\n',\n",
       " '35\\t46\\t1.5458e-02\\n',\n",
       " '36\\t40\\t1.5777e-02\\n',\n",
       " '36\\t42\\t2.8838e-03\\n',\n",
       " '36\\t46\\t7.2583e-02\\n',\n",
       " '36\\t47\\t3.2248e-02\\n',\n",
       " '36\\t49\\t7.9994e-03\\n',\n",
       " '37\\t44\\t4.4195e-03\\n',\n",
       " '37\\t45\\t1.0893e-01\\n',\n",
       " '38\\t44\\t1.0309e-01\\n',\n",
       " '38\\t45\\t3.4733e-03\\n',\n",
       " '39\\t44\\t5.7983e-03\\n',\n",
       " '39\\t45\\t1.0384e-01\\n',\n",
       " '40\\t44\\t1.0436e-01\\n',\n",
       " '40\\t45\\t9.0490e-03\\n',\n",
       " '42\\t48\\t1.7046e-03\\n',\n",
       " '43\\t48\\t1.1456e-03\\n',\n",
       " '43\\t50\\t9.1875e-02\\n',\n",
       " '44\\t49\\t1.4779e-01\\n',\n",
       " '45\\t49\\t5.0529e-03\\n',\n",
       " '1\\t51\\t9.4693e-01\\n',\n",
       " '2\\t51\\t9.0636e-01\\n',\n",
       " '3\\t51\\t9.2771e-01\\n',\n",
       " '4\\t51\\t9.0479e-01\\n',\n",
       " '5\\t51\\t7.6525e-01\\n',\n",
       " '6\\t51\\t8.0311e-01\\n',\n",
       " '7\\t51\\t8.9689e-01\\n',\n",
       " '8\\t51\\t9.4358e-01\\n',\n",
       " '9\\t51\\t9.1255e-01\\n',\n",
       " '10\\t51\\t8.8723e-01\\n',\n",
       " '11\\t51\\t8.4698e-01\\n',\n",
       " '12\\t51\\t8.8019e-01\\n',\n",
       " '13\\t51\\t7.4388e-01\\n',\n",
       " '14\\t51\\t9.1028e-01\\n',\n",
       " '15\\t51\\t3.3454e-01\\n',\n",
       " '16\\t51\\t2.3731e-01\\n',\n",
       " '17\\t51\\t2.5868e-01\\n',\n",
       " '18\\t51\\t8.2735e-01\\n',\n",
       " '19\\t51\\t8.8517e-01\\n',\n",
       " '20\\t51\\t9.0398e-01\\n',\n",
       " '21\\t51\\t9.2809e-01\\n',\n",
       " '22\\t51\\t9.3944e-01\\n',\n",
       " '23\\t51\\t1.4576e-02\\n',\n",
       " '24\\t51\\t1.5995e-02\\n',\n",
       " '25\\t51\\t1.9062e-01\\n',\n",
       " '26\\t51\\t9.2294e-01\\n',\n",
       " '27\\t51\\t8.1565e-01\\n',\n",
       " '28\\t51\\t9.4530e-01\\n',\n",
       " '29\\t51\\t4.2045e-01\\n',\n",
       " '30\\t51\\t3.5043e-01\\n',\n",
       " '31\\t51\\t6.4874e-01\\n',\n",
       " '32\\t51\\t6.9069e-01\\n',\n",
       " '33\\t51\\t7.6750e-01\\n',\n",
       " '34\\t51\\t8.7536e-01\\n',\n",
       " '35\\t51\\t9.1122e-01\\n',\n",
       " '36\\t51\\t3.7081e-01\\n',\n",
       " '37\\t51\\t4.3364e-01\\n',\n",
       " '38\\t51\\t7.2908e-01\\n',\n",
       " '39\\t51\\t7.2508e-01\\n',\n",
       " '40\\t51\\t7.0454e-01\\n',\n",
       " '41\\t51\\t9.6502e-01\\n',\n",
       " '42\\t51\\t9.3221e-01\\n',\n",
       " '43\\t51\\t6.8212e-01\\n',\n",
       " '44\\t51\\t3.0912e-01\\n',\n",
       " '45\\t51\\t4.2982e-01\\n',\n",
       " '46\\t51\\t8.1512e-01\\n',\n",
       " '47\\t51\\t8.0052e-01\\n',\n",
       " '48\\t51\\t8.6351e-01\\n',\n",
       " '49\\t51\\t7.3068e-01\\n',\n",
       " '50\\t51\\t9.0452e-01\\n']"
      ]
     },
     "execution_count": 31,
     "metadata": {},
     "output_type": "execute_result"
    }
   ],
   "source": [
    "content"
   ]
  },
  {
   "cell_type": "markdown",
   "metadata": {
    "deletable": true,
    "editable": true
   },
   "source": [
    "According to the manual, the output is formatted as following:\n",
    "* First comes commented header with parameters of secondary structure assembly\n",
    "* Empty line\n",
    "* Integer identifying total number of nucleotide N\n",
    "* Probabilities of each nucleotide pairing with other nucleotide.\n",
    "    * They are numbered starting from \"1\"\n",
    "    * 3 columns: nucleotide number (1st column), its pair number (2nd column), probability (3rd column)\n",
    "    * Number N+1 is unpaired nucleotide (looks like, I'm not 100% sure now).\n",
    "    * There is a cutoff value for probability. Pairs with probabilities below cutoff will not show up."
   ]
  },
  {
   "cell_type": "markdown",
   "metadata": {
    "deletable": true,
    "editable": true
   },
   "source": [
    "## Calculating partition function"
   ]
  },
  {
   "cell_type": "code",
   "execution_count": 32,
   "metadata": {
    "collapsed": false,
    "deletable": true,
    "editable": true
   },
   "outputs": [
    {
     "name": "stdout",
     "output_type": "stream",
     "text": [
      "% NUPACK 3.1.0\r\n",
      "% Program: pfunc\r\n",
      "% Start time: Tue Apr 25 23:16:58 2017\r\n",
      "% Command: pfunc -T 37 seq \r\n",
      "% Sequence:  TACTGATATACCTCTCCGTTAAGGATACGCCGTAAGCTCCATTGGTCACA\r\n",
      "% v(pi): 1\r\n",
      "% Parameters: RNA, 1995\r\n",
      "% Dangles setting: 1\r\n",
      "% Temperature (C): 37.0\r\n",
      "% Sodium concentration: 1.0000 M\r\n",
      "% Magnesium concentration: 0.0000 M\r\n",
      "%\r\n",
      "% Free energy (kcal/mol) and partition function:\r\n",
      "-6.69513088e+00\r\n",
      "5.22117134271103e+04\r\n"
     ]
    }
   ],
   "source": [
    "# -T 37 is how one specifies temperature\n",
    "!pfunc -T 37 seq"
   ]
  },
  {
   "cell_type": "code",
   "execution_count": 40,
   "metadata": {
    "collapsed": true
   },
   "outputs": [],
   "source": [
    "result = !pfunc -T 37 seq"
   ]
  },
  {
   "cell_type": "code",
   "execution_count": 41,
   "metadata": {
    "collapsed": false
   },
   "outputs": [
    {
     "data": {
      "text/plain": [
       "['% NUPACK 3.1.0',\n",
       " '% Program: pfunc',\n",
       " '% Start time: Tue Apr 25 23:24:27 2017',\n",
       " '% Command: pfunc -T 37 seq ',\n",
       " '% Sequence:  UACUGAUAUACCUCUCCGUUAAGGAUACGCCGUAAGCUCCAUUGGUCACA',\n",
       " '% v(pi): 1',\n",
       " '% Parameters: RNA, 1995',\n",
       " '% Dangles setting: 1',\n",
       " '% Temperature (C): 37.0',\n",
       " '% Sodium concentration: 1.0000 M',\n",
       " '% Magnesium concentration: 0.0000 M',\n",
       " '%',\n",
       " '% Free energy (kcal/mol) and partition function:',\n",
       " '-6.69513088e+00',\n",
       " '5.22117134271103e+04']"
      ]
     },
     "execution_count": 41,
     "metadata": {},
     "output_type": "execute_result"
    }
   ],
   "source": [
    "result"
   ]
  },
  {
   "cell_type": "markdown",
   "metadata": {},
   "source": [
    "## Checking if T-U replacement makes any effect"
   ]
  },
  {
   "cell_type": "code",
   "execution_count": 34,
   "metadata": {
    "collapsed": true
   },
   "outputs": [],
   "source": [
    "import re"
   ]
  },
  {
   "cell_type": "code",
   "execution_count": 38,
   "metadata": {
    "collapsed": true
   },
   "outputs": [],
   "source": [
    "# Saving sample sequence to input file\n",
    "seqU = re.sub('T', 'U', seq)\n",
    "SeqToFile(seqU)"
   ]
  },
  {
   "cell_type": "code",
   "execution_count": 39,
   "metadata": {
    "collapsed": false
   },
   "outputs": [
    {
     "name": "stdout",
     "output_type": "stream",
     "text": [
      "% NUPACK 3.1.0\r\n",
      "% Program: pfunc\r\n",
      "% Start time: Tue Apr 25 23:19:18 2017\r\n",
      "% Command: pfunc -T 37 seq \r\n",
      "% Sequence:  UACUGAUAUACCUCUCCGUUAAGGAUACGCCGUAAGCUCCAUUGGUCACA\r\n",
      "% v(pi): 1\r\n",
      "% Parameters: RNA, 1995\r\n",
      "% Dangles setting: 1\r\n",
      "% Temperature (C): 37.0\r\n",
      "% Sodium concentration: 1.0000 M\r\n",
      "% Magnesium concentration: 0.0000 M\r\n",
      "%\r\n",
      "% Free energy (kcal/mol) and partition function:\r\n",
      "-6.69513088e+00\r\n",
      "5.22117134271103e+04\r\n"
     ]
    }
   ],
   "source": [
    "# You can also input just a sequence, without saving it to hard drive\n",
    "!pfunc -T 37 seq"
   ]
  },
  {
   "cell_type": "markdown",
   "metadata": {},
   "source": [
    "When doing RNA and keeping T, the deltaG = -6.695\n",
    "\n",
    "When RNA with U instead of T, the deltaG = -6.695\n",
    "\n",
    "There is no difference, seems Nupack automatically replaces T with U."
   ]
  },
  {
   "cell_type": "code",
   "execution_count": null,
   "metadata": {
    "collapsed": true
   },
   "outputs": [],
   "source": []
  }
 ],
 "metadata": {
  "kernelspec": {
   "display_name": "Python 2",
   "language": "python",
   "name": "python2"
  },
  "language_info": {
   "codemirror_mode": {
    "name": "ipython",
    "version": 2
   },
   "file_extension": ".py",
   "mimetype": "text/x-python",
   "name": "python",
   "nbconvert_exporter": "python",
   "pygments_lexer": "ipython2",
   "version": "2.7.6"
  }
 },
 "nbformat": 4,
 "nbformat_minor": 2
}
